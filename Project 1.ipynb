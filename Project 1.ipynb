{
 "cells": [
  {
   "cell_type": "code",
   "execution_count": 1,
   "metadata": {},
   "outputs": [
    {
     "data": {
      "image/png": "[encoded data removed]",
      "text/plain": [
       "<Figure size 432x288 with 1 Axes>"
      ]
     },
     "metadata": {
      "needs_background": "light"
     },
     "output_type": "display_data"
    }
   ],
   "source": [
    "#Plotting the linear graph of Hours studied v/s Scores Obtained\r\n",
    "\r\n",
    "import pandas as pd\r\n",
    "import numpy as np  \r\n",
    "import matplotlib.pyplot as plot  \r\n",
    "%matplotlib inline\r\n",
    "\r\n",
    "data = pd.read_csv(\"https://raw.githubusercontent.com/AdiPersonalWorks/Random/master/student_scores%20-%20student_scores.csv\")\r\n",
    "\r\n",
    "data.plot(x ='Hours', y ='Scores',style = \".\")\r\n",
    "plot.show()\r\n"
   ]
  },
  {
   "cell_type": "code",
   "execution_count": 2,
   "metadata": {},
   "outputs": [
    {
     "name": "stdout",
     "output_type": "stream",
     "text": [
      "Data Preperation Complete\n"
     ]
    }
   ],
   "source": [
    "#In this step data is divided into attributes and labels and split into training and testing sets\r\n",
    "\r\n",
    "x = data.iloc[:, :-1].values  #Attribute\r\n",
    "y = data.iloc[:, 1].values    #Labels\r\n",
    "\r\n",
    "from sklearn.model_selection import train_test_split  \r\n",
    "x_train, x_test, y_train, y_test = train_test_split(x, y, test_size = 0.2, random_state = 42)\r\n",
    "\r\n",
    "print(\"Data Preperation Complete\")"
   ]
  },
  {
   "cell_type": "code",
   "execution_count": 3,
   "metadata": {},
   "outputs": [
    {
     "name": "stdout",
     "output_type": "stream",
     "text": [
      "Training complete\n"
     ]
    }
   ],
   "source": [
    "from sklearn.linear_model import LinearRegression  \r\n",
    "regression = LinearRegression()  \r\n",
    "regression.fit(x_train, y_train) \r\n",
    "\r\n",
    "print(\"Training complete\")\r\n"
   ]
  },
  {
   "cell_type": "code",
   "execution_count": 4,
   "metadata": {},
   "outputs": [
    {
     "data": {
      "image/png": "[encoded data removed]",
      "text/plain": [
       "<Figure size 432x288 with 1 Axes>"
      ]
     },
     "metadata": {
      "needs_background": "light"
     },
     "output_type": "display_data"
    }
   ],
   "source": [
    "#Plotting the regression line along with data\r\n",
    "r_line = regression.coef_*x + regression.intercept_\r\n",
    "\r\n",
    "plot.scatter(x, y)\r\n",
    "plot.plot(x, r_line);\r\n",
    "plot.show()"
   ]
  },
  {
   "cell_type": "code",
   "execution_count": 6,
   "metadata": {},
   "outputs": [
    {
     "name": "stdout",
     "output_type": "stream",
     "text": [
      "Both the sets are accurate with values :\n",
      "Test Set =  0.9678055545167994\n",
      "Training Set =  0.9491209376364416\n"
     ]
    }
   ],
   "source": [
    "# Checking the accuracy of our Training and Test DataSets\r\n",
    "\r\n",
    "\r\n",
    "print('Both the sets are accurate with values :')\r\n",
    "\r\n",
    "print('Test Set = ',regression.score(x_test, y_test))\r\n",
    "print('Training Set = ',regression.score(x_train, y_train))\r\n",
    "          "
   ]
  },
  {
   "cell_type": "code",
   "execution_count": 7,
   "metadata": {},
   "outputs": [
    {
     "name": "stdout",
     "output_type": "stream",
     "text": [
      "   Actual  Predicted\n",
      "0      81  83.188141\n",
      "1      30  27.032088\n",
      "2      21  27.032088\n",
      "3      76  69.633232\n",
      "4      62  59.951153\n"
     ]
    }
   ],
   "source": [
    "# Making Predictions from the Test Set\r\n",
    "\r\n",
    "prediction = regression.predict(x_test)\r\n",
    "\r\n",
    "# We can see the comparison between Actual Scores and Predicted Scores\r\n",
    "\r\n",
    "df = pd.DataFrame({'Actual': y_test, 'Predicted': prediction})  \r\n",
    "print(df)"
   ]
  },
  {
   "cell_type": "code",
   "execution_count": 8,
   "metadata": {},
   "outputs": [
    {
     "name": "stdout",
     "output_type": "stream",
     "text": [
      "Student studying for [['9.5']] hours will obtain [94.80663482] marks according to this model.\n"
     ]
    },
    {
     "name": "stderr",
     "output_type": "stream",
     "text": [
      "C:\\Users\\divya\\anaconda3\\lib\\site-packages\\sklearn\\utils\\validation.py:63: FutureWarning: Arrays of bytes/strings is being converted to decimal numbers if dtype='numeric'. This behavior is deprecated in 0.24 and will be removed in 1.1 (renaming of 0.26). Please convert your data to numeric values explicitly instead.\n",
      "  return f(*args, **kwargs)\n"
     ]
    }
   ],
   "source": [
    "# Predicting the Marks for user provides hours of study\r\n",
    "\r\n",
    "hours = [[input()]]\r\n",
    "myprediction = regression.predict(hours)\r\n",
    "print('Student studying for',hours,'hours will obtain',myprediction,'marks according to this model.')"
   ]
  },
  {
   "cell_type": "code",
   "execution_count": 9,
   "metadata": {},
   "outputs": [],
   "source": [
    "import pickle\r\n",
    "pickle.dump(regression, open('C:/users/divya/model.pkl','wb'))"
   ]
  },
  {
   "cell_type": "code",
   "execution_count": 10,
   "metadata": {},
   "outputs": [
    {
     "name": "stdout",
     "output_type": "stream",
     "text": [
      "[20.25463303]\n"
     ]
    }
   ],
   "source": [
    "model = pickle.load(open('C:/users/divya/model.pkl','rb'))\r\n",
    "print(model.predict([[1.8]]))"
   ]
  },
  {
   "cell_type": "code",
   "execution_count": null,
   "metadata": {},
   "outputs": [],
   "source": []
  }
 ],
 "metadata": {
  "kernelspec": {
   "name": "python3",
   "display_name": "Python 3.8.8 64-bit ('base': conda)"
  },
  "language_info": {
   "codemirror_mode": {
    "name": "ipython",
    "version": 3
   },
   "file_extension": ".py",
   "mimetype": "text/x-python",
   "name": "python",
   "nbconvert_exporter": "python",
   "pygments_lexer": "ipython3",
   "version": "3.8.8"
  },
  "interpreter": {
   "hash": "b531b3af018a4982dfc1aa8db52a24cc3acb666bcf2043fb01945b05238aeb19"
  }
 },
 "nbformat": 4,
 "nbformat_minor": 2
}
